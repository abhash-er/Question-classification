{
 "cells": [
  {
   "cell_type": "markdown",
   "metadata": {},
   "source": [
    "## Problem Statement : \n",
    "\n",
    "\n",
    "Given a question, the aim is to identify the category it belongs to -> \n",
    "There are 4 categories available i.e. \"Who, What, When, Affirmation(yes/no).\"\n",
    "Label any sentence that does not fall in any of the above four as \"Unknown\" type.\n"
   ]
  },
  {
   "cell_type": "code",
   "execution_count": 1,
   "metadata": {},
   "outputs": [],
   "source": [
    "import nltk\n",
    "import numpy as np\n",
    "import pandas as pd\n",
    "import matplotlib.pyplot as plt\n",
    "import seaborn as sns\n",
    "%matplotlib inline"
   ]
  },
  {
   "cell_type": "code",
   "execution_count": 2,
   "metadata": {},
   "outputs": [
    {
     "name": "stdout",
     "output_type": "stream",
     "text": [
      "how did serfdom develop in and then leave russia ? ,,, unknown\n"
     ]
    }
   ],
   "source": [
    "file_name = \"LabelledData (1).txt\"\n",
    "with open(file_name,'r') as file:\n",
    "    lines = [(line.lower()).rstrip('\\n') for line in file if (line!= '\\n')]\n",
    "\n",
    "print(lines[0])"
   ]
  },
  {
   "cell_type": "code",
   "execution_count": 3,
   "metadata": {},
   "outputs": [
    {
     "name": "stdout",
     "output_type": "stream",
     "text": [
      "unknown\n"
     ]
    }
   ],
   "source": [
    "holder = {}\n",
    "for line in lines:\n",
    "    key, value = line.split(\",,,\")\n",
    "    holder[key.rstrip()] = value.lstrip()\n",
    "\n",
    "print(holder[\"how did serfdom develop in and then leave russia ?\"])    "
   ]
  },
  {
   "cell_type": "code",
   "execution_count": 4,
   "metadata": {},
   "outputs": [
    {
     "name": "stdout",
     "output_type": "stream",
     "text": [
      "(1476, 2)\n"
     ]
    }
   ],
   "source": [
    "data = pd.DataFrame(holder.items(),columns = ['Question', 'Label'])\n",
    "print(data.shape)"
   ]
  },
  {
   "cell_type": "code",
   "execution_count": 5,
   "metadata": {},
   "outputs": [
    {
     "data": {
      "text/html": [
       "<div>\n",
       "<style scoped>\n",
       "    .dataframe tbody tr th:only-of-type {\n",
       "        vertical-align: middle;\n",
       "    }\n",
       "\n",
       "    .dataframe tbody tr th {\n",
       "        vertical-align: top;\n",
       "    }\n",
       "\n",
       "    .dataframe thead th {\n",
       "        text-align: right;\n",
       "    }\n",
       "</style>\n",
       "<table border=\"1\" class=\"dataframe\">\n",
       "  <thead>\n",
       "    <tr style=\"text-align: right;\">\n",
       "      <th></th>\n",
       "      <th>Question</th>\n",
       "      <th>Label</th>\n",
       "    </tr>\n",
       "  </thead>\n",
       "  <tbody>\n",
       "    <tr>\n",
       "      <th>0</th>\n",
       "      <td>how did serfdom develop in and then leave russ...</td>\n",
       "      <td>unknown</td>\n",
       "    </tr>\n",
       "    <tr>\n",
       "      <th>1</th>\n",
       "      <td>what films featured the character popeye doyle ?</td>\n",
       "      <td>what</td>\n",
       "    </tr>\n",
       "    <tr>\n",
       "      <th>2</th>\n",
       "      <td>how can i find a list of celebrities ' real na...</td>\n",
       "      <td>unknown</td>\n",
       "    </tr>\n",
       "    <tr>\n",
       "      <th>3</th>\n",
       "      <td>what fowl grabs the spotlight after the chines...</td>\n",
       "      <td>what</td>\n",
       "    </tr>\n",
       "    <tr>\n",
       "      <th>4</th>\n",
       "      <td>what is the full form of .com ?</td>\n",
       "      <td>what</td>\n",
       "    </tr>\n",
       "    <tr>\n",
       "      <th>5</th>\n",
       "      <td>what contemptible scoundrel stole the cork fro...</td>\n",
       "      <td>what</td>\n",
       "    </tr>\n",
       "    <tr>\n",
       "      <th>6</th>\n",
       "      <td>what team did baseball 's st. louis browns bec...</td>\n",
       "      <td>what</td>\n",
       "    </tr>\n",
       "    <tr>\n",
       "      <th>7</th>\n",
       "      <td>what is the oldest profession ?</td>\n",
       "      <td>what</td>\n",
       "    </tr>\n",
       "    <tr>\n",
       "      <th>8</th>\n",
       "      <td>what are liver enzymes ?</td>\n",
       "      <td>what</td>\n",
       "    </tr>\n",
       "    <tr>\n",
       "      <th>9</th>\n",
       "      <td>name the scar-faced bounty hunter of the old w...</td>\n",
       "      <td>unknown</td>\n",
       "    </tr>\n",
       "  </tbody>\n",
       "</table>\n",
       "</div>"
      ],
      "text/plain": [
       "                                            Question    Label\n",
       "0  how did serfdom develop in and then leave russ...  unknown\n",
       "1   what films featured the character popeye doyle ?     what\n",
       "2  how can i find a list of celebrities ' real na...  unknown\n",
       "3  what fowl grabs the spotlight after the chines...     what\n",
       "4                    what is the full form of .com ?     what\n",
       "5  what contemptible scoundrel stole the cork fro...     what\n",
       "6  what team did baseball 's st. louis browns bec...     what\n",
       "7                    what is the oldest profession ?     what\n",
       "8                           what are liver enzymes ?     what\n",
       "9  name the scar-faced bounty hunter of the old w...  unknown"
      ]
     },
     "execution_count": 5,
     "metadata": {},
     "output_type": "execute_result"
    }
   ],
   "source": [
    "data.head(10)"
   ]
  },
  {
   "cell_type": "code",
   "execution_count": 6,
   "metadata": {},
   "outputs": [
    {
     "data": {
      "text/plain": [
       "array(['unknown', 'what', 'when', 'who', 'affirmation'], dtype=object)"
      ]
     },
     "execution_count": 6,
     "metadata": {},
     "output_type": "execute_result"
    }
   ],
   "source": [
    "data[\"Label\"].unique()"
   ]
  },
  {
   "cell_type": "code",
   "execution_count": 7,
   "metadata": {},
   "outputs": [
    {
     "data": {
      "text/plain": [
       "Question    0\n",
       "Label       0\n",
       "dtype: int64"
      ]
     },
     "execution_count": 7,
     "metadata": {},
     "output_type": "execute_result"
    }
   ],
   "source": [
    "data.isnull().sum()"
   ]
  },
  {
   "cell_type": "code",
   "execution_count": 8,
   "metadata": {},
   "outputs": [
    {
     "data": {
      "text/html": [
       "<div>\n",
       "<style scoped>\n",
       "    .dataframe tbody tr th:only-of-type {\n",
       "        vertical-align: middle;\n",
       "    }\n",
       "\n",
       "    .dataframe tbody tr th {\n",
       "        vertical-align: top;\n",
       "    }\n",
       "\n",
       "    .dataframe thead th {\n",
       "        text-align: right;\n",
       "    }\n",
       "</style>\n",
       "<table border=\"1\" class=\"dataframe\">\n",
       "  <thead>\n",
       "    <tr style=\"text-align: right;\">\n",
       "      <th></th>\n",
       "      <th>Question</th>\n",
       "      <th>Label</th>\n",
       "    </tr>\n",
       "  </thead>\n",
       "  <tbody>\n",
       "    <tr>\n",
       "      <th>0</th>\n",
       "      <td>how did serfdom develop in and then leave russia</td>\n",
       "      <td>unknown</td>\n",
       "    </tr>\n",
       "    <tr>\n",
       "      <th>1</th>\n",
       "      <td>what films featured the character popeye doyle</td>\n",
       "      <td>what</td>\n",
       "    </tr>\n",
       "    <tr>\n",
       "      <th>2</th>\n",
       "      <td>how can i find a list of celebrities  real names</td>\n",
       "      <td>unknown</td>\n",
       "    </tr>\n",
       "    <tr>\n",
       "      <th>3</th>\n",
       "      <td>what fowl grabs the spotlight after the chines...</td>\n",
       "      <td>what</td>\n",
       "    </tr>\n",
       "    <tr>\n",
       "      <th>4</th>\n",
       "      <td>what is the full form of com</td>\n",
       "      <td>what</td>\n",
       "    </tr>\n",
       "    <tr>\n",
       "      <th>5</th>\n",
       "      <td>what contemptible scoundrel stole the cork fro...</td>\n",
       "      <td>what</td>\n",
       "    </tr>\n",
       "    <tr>\n",
       "      <th>6</th>\n",
       "      <td>what team did baseball s st louis browns become</td>\n",
       "      <td>what</td>\n",
       "    </tr>\n",
       "    <tr>\n",
       "      <th>7</th>\n",
       "      <td>what is the oldest profession</td>\n",
       "      <td>what</td>\n",
       "    </tr>\n",
       "    <tr>\n",
       "      <th>8</th>\n",
       "      <td>what are liver enzymes</td>\n",
       "      <td>what</td>\n",
       "    </tr>\n",
       "    <tr>\n",
       "      <th>9</th>\n",
       "      <td>name the scarfaced bounty hunter of the old west</td>\n",
       "      <td>unknown</td>\n",
       "    </tr>\n",
       "  </tbody>\n",
       "</table>\n",
       "</div>"
      ],
      "text/plain": [
       "                                            Question    Label\n",
       "0  how did serfdom develop in and then leave russia   unknown\n",
       "1    what films featured the character popeye doyle      what\n",
       "2  how can i find a list of celebrities  real names   unknown\n",
       "3  what fowl grabs the spotlight after the chines...     what\n",
       "4                      what is the full form of com      what\n",
       "5  what contemptible scoundrel stole the cork fro...     what\n",
       "6   what team did baseball s st louis browns become      what\n",
       "7                     what is the oldest profession      what\n",
       "8                            what are liver enzymes      what\n",
       "9  name the scarfaced bounty hunter of the old west   unknown"
      ]
     },
     "execution_count": 8,
     "metadata": {},
     "output_type": "execute_result"
    }
   ],
   "source": [
    "#removing unwanted expressions line(, '  \"  ; - .   etc)\n",
    "import re\n",
    "data['Question'] = data['Question'].apply(lambda x: re.sub('[^a-zA-z0-9\\s]','',x))\n",
    "data.head(10)"
   ]
  },
  {
   "cell_type": "markdown",
   "metadata": {},
   "source": [
    "## Naive Bayes"
   ]
  },
  {
   "cell_type": "code",
   "execution_count": 9,
   "metadata": {},
   "outputs": [],
   "source": [
    "from sklearn.model_selection import train_test_split as split\n",
    "from sklearn.metrics import confusion_matrix as cf_mat\n",
    "from sklearn.metrics import classification_report as repo\n",
    "\n",
    "from sklearn.feature_extraction.text import CountVectorizer, TfidfVectorizer\n",
    "from sklearn.naive_bayes import MultinomialNB as nb\n",
    "from nltk.stem import SnowballStemmer\n",
    "from nltk import word_tokenize\n",
    "from nltk.corpus import wordnet"
   ]
  },
  {
   "cell_type": "code",
   "execution_count": 10,
   "metadata": {},
   "outputs": [],
   "source": [
    "x = data[\"Question\"]\n",
    "y = data[\"Label\"]"
   ]
  },
  {
   "cell_type": "code",
   "execution_count": 11,
   "metadata": {},
   "outputs": [],
   "source": [
    "#stemming\n",
    "stemmer = SnowballStemmer('english').stem\n",
    "def stem_tokenize(text):\n",
    "    return [stemmer(i) for i in word_tokenize(text)]"
   ]
  },
  {
   "cell_type": "code",
   "execution_count": 12,
   "metadata": {},
   "outputs": [],
   "source": [
    "#Instantiate\n",
    "vectorizer = CountVectorizer(analyzer ='word',lowercase = True, tokenizer = stem_tokenize)\n",
    "x  = vectorizer.fit_transform(x.values)"
   ]
  },
  {
   "cell_type": "code",
   "execution_count": 13,
   "metadata": {},
   "outputs": [
    {
     "name": "stdout",
     "output_type": "stream",
     "text": [
      "  (0, 1476)\t1\n",
      "  (0, 915)\t1\n",
      "  (0, 2570)\t1\n",
      "  (0, 901)\t1\n",
      "  (0, 1513)\t1\n",
      "  (0, 227)\t1\n",
      "  (0, 2881)\t1\n",
      "  (0, 1710)\t1\n",
      "  (0, 2508)\t1\n",
      "  (1, 3116)\t1\n",
      "  (1, 1171)\t1\n",
      "  (1, 1151)\t1\n",
      "  (1, 2877)\t1\n",
      "  (1, 613)\t1\n",
      "  (1, 2275)\t1\n",
      "  (1, 977)\t1\n",
      "  (2, 1476)\t1\n",
      "  (2, 545)\t1\n",
      "  (2, 1500)\t1\n",
      "  (2, 1175)\t1\n",
      "  (2, 128)\t1\n",
      "  (2, 1744)\t1\n",
      "  (2, 2100)\t1\n",
      "  (2, 589)\t1\n",
      "  (2, 2397)\t1\n",
      "  :\t:\n",
      "  (1472, 1580)\t1\n",
      "  (1472, 356)\t1\n",
      "  (1472, 2422)\t1\n",
      "  (1473, 946)\t1\n",
      "  (1473, 2117)\t1\n",
      "  (1473, 1405)\t1\n",
      "  (1473, 2894)\t1\n",
      "  (1473, 1466)\t1\n",
      "  (1474, 1513)\t1\n",
      "  (1474, 545)\t1\n",
      "  (1474, 1500)\t1\n",
      "  (1474, 1580)\t1\n",
      "  (1474, 1296)\t1\n",
      "  (1474, 1521)\t1\n",
      "  (1475, 128)\t2\n",
      "  (1475, 3156)\t1\n",
      "  (1475, 2115)\t1\n",
      "  (1475, 3181)\t1\n",
      "  (1475, 3176)\t1\n",
      "  (1475, 2894)\t1\n",
      "  (1475, 1993)\t1\n",
      "  (1475, 1217)\t1\n",
      "  (1475, 88)\t1\n",
      "  (1475, 1023)\t1\n",
      "  (1475, 2487)\t1\n"
     ]
    }
   ],
   "source": [
    "print(x)"
   ]
  },
  {
   "cell_type": "markdown",
   "metadata": {},
   "source": [
    "We got a sparse matrix for each sentence "
   ]
  },
  {
   "cell_type": "code",
   "execution_count": 14,
   "metadata": {},
   "outputs": [],
   "source": [
    "# split will not work for our matrix form, doing it via np.random\n",
    "# This is a 20% testing and 80% training\n",
    "order = np.arange(x.shape[0])\n",
    "np.random.shuffle(order)\n",
    "x = x[order]\n",
    "y = y[order]\n",
    "\n",
    "test_length = int(0.2*x.shape[0])\n",
    "\n",
    "x_train = x[:-test_length]\n",
    "x_test = x[-test_length:]\n",
    "\n",
    "y_train = y[:-test_length]\n",
    "y_test = y[-test_length:]\n"
   ]
  },
  {
   "cell_type": "code",
   "execution_count": 15,
   "metadata": {},
   "outputs": [
    {
     "data": {
      "text/plain": [
       "array([ 690,  360,  840, ...,  721, 1151,  493])"
      ]
     },
     "execution_count": 15,
     "metadata": {},
     "output_type": "execute_result"
    }
   ],
   "source": [
    "order"
   ]
  },
  {
   "cell_type": "code",
   "execution_count": 16,
   "metadata": {},
   "outputs": [
    {
     "data": {
      "text/plain": [
       "MultinomialNB(alpha=1.0, class_prior=None, fit_prior=True)"
      ]
     },
     "execution_count": 16,
     "metadata": {},
     "output_type": "execute_result"
    }
   ],
   "source": [
    "Naive = nb()\n",
    "Naive.fit(x_train,y_train)"
   ]
  },
  {
   "cell_type": "code",
   "execution_count": 17,
   "metadata": {},
   "outputs": [
    {
     "name": "stdout",
     "output_type": "stream",
     "text": [
      "Accuracy  0.9186440677966101\n"
     ]
    }
   ],
   "source": [
    "preds = Naive.predict(x_test)\n",
    "print(\"Accuracy \" ,Naive.score(x_test,y_test))"
   ]
  },
  {
   "cell_type": "code",
   "execution_count": 18,
   "metadata": {},
   "outputs": [
    {
     "name": "stdout",
     "output_type": "stream",
     "text": [
      "classification report\n",
      "               precision    recall  f1-score   support\n",
      "\n",
      " affirmation       0.81      1.00      0.89        17\n",
      "     unknown       0.90      0.92      0.91        48\n",
      "        what       0.96      0.91      0.94       135\n",
      "        when       0.41      0.78      0.54         9\n",
      "         who       1.00      0.93      0.96        86\n",
      "\n",
      "    accuracy                           0.92       295\n",
      "   macro avg       0.82      0.91      0.85       295\n",
      "weighted avg       0.94      0.92      0.92       295\n",
      "\n"
     ]
    }
   ],
   "source": [
    "print(\"classification report\\n\",repo(preds,y_test))"
   ]
  },
  {
   "cell_type": "code",
   "execution_count": 19,
   "metadata": {},
   "outputs": [],
   "source": [
    "test1 = vectorizer.transform([\"What is your name?\"])\n",
    "test2 = vectorizer.transform([\"When is the show happening?\"])\n",
    "test3 = vectorizer.transform([\"Is there a cab available for the airport?\"])\n",
    "test4 = vectorizer.transform([\"What time does the train leave?\"])\n",
    "test5 = vectorizer.transform([\"how many boys are there in the game of football?\"])\n",
    "\n"
   ]
  },
  {
   "cell_type": "code",
   "execution_count": 20,
   "metadata": {},
   "outputs": [
    {
     "name": "stdout",
     "output_type": "stream",
     "text": [
      "['what']\n",
      "['what']\n",
      "['what']\n",
      "['what']\n",
      "['unknown']\n"
     ]
    }
   ],
   "source": [
    "print(Naive.predict(test1))\n",
    "\n",
    "print(Naive.predict(test2))\n",
    "\n",
    "print(Naive.predict(test3))\n",
    "\n",
    "print(Naive.predict(test4))\n",
    "\n",
    "print(Naive.predict(test5))"
   ]
  },
  {
   "cell_type": "markdown",
   "metadata": {},
   "source": [
    "Clearly the model is predicting poorly, lets try to see other models"
   ]
  },
  {
   "cell_type": "markdown",
   "metadata": {},
   "source": [
    "## Random Forest"
   ]
  },
  {
   "cell_type": "code",
   "execution_count": 21,
   "metadata": {},
   "outputs": [],
   "source": [
    "from sklearn.ensemble import RandomForestClassifier as random_forest\n",
    "from sklearn.model_selection import RandomizedSearchCV, GridSearchCV"
   ]
  },
  {
   "cell_type": "code",
   "execution_count": 22,
   "metadata": {},
   "outputs": [
    {
     "name": "stdout",
     "output_type": "stream",
     "text": [
      "Fitting 3 folds for each of 100 candidates, totalling 300 fits\n"
     ]
    },
    {
     "name": "stderr",
     "output_type": "stream",
     "text": [
      "[Parallel(n_jobs=-1)]: Using backend LokyBackend with 8 concurrent workers.\n",
      "[Parallel(n_jobs=-1)]: Done  25 tasks      | elapsed:   18.5s\n",
      "[Parallel(n_jobs=-1)]: Done 146 tasks      | elapsed:  1.4min\n",
      "[Parallel(n_jobs=-1)]: Done 300 out of 300 | elapsed:  3.0min finished\n"
     ]
    },
    {
     "name": "stdout",
     "output_type": "stream",
     "text": [
      "RandomForestClassifier(bootstrap=False, ccp_alpha=0.0, class_weight=None,\n",
      "                       criterion='gini', max_depth=None, max_features='auto',\n",
      "                       max_leaf_nodes=None, max_samples=None,\n",
      "                       min_impurity_decrease=0.0, min_impurity_split=None,\n",
      "                       min_samples_leaf=1, min_samples_split=2,\n",
      "                       min_weight_fraction_leaf=0.0, n_estimators=522,\n",
      "                       n_jobs=None, oob_score=False, random_state=None,\n",
      "                       verbose=0, warm_start=False)\n"
     ]
    }
   ],
   "source": [
    "#hyperparameter search\n",
    "from scipy.stats import randint\n",
    "\n",
    "max_depth = [int(x) for x in np.linspace(10, 110, num = 11)]\n",
    "max_depth.append(None)\n",
    "\n",
    "param_rf = {'n_estimators': [int(x) for x in np.linspace(start = 100, stop = 2000, num = 10)],\n",
    "               'max_features': ['auto', 'sqrt'],\n",
    "               'max_depth': max_depth,\n",
    "               'min_samples_split': randint(1,10),\n",
    "               'min_samples_leaf': randint(1,5),\n",
    "               'bootstrap': [True, False],\n",
    "               'criterion':['gini','entropy']}\n",
    "\n",
    "rf = random_forest()\n",
    "rf_cv = RandomizedSearchCV(estimator = rf, param_distributions = param_rf, n_iter = 100, cv = 3, verbose=2, random_state=42, n_jobs = -1)\n",
    "rf_cv = rf_cv.fit(x_train,y_train)\n",
    "\n",
    "print(rf_cv.best_estimator_)"
   ]
  },
  {
   "cell_type": "code",
   "execution_count": 23,
   "metadata": {},
   "outputs": [],
   "source": [
    "rf = random_forest(**rf_cv.best_params_)\n",
    "\n",
    "rf = rf.fit(x_train,y_train)"
   ]
  },
  {
   "cell_type": "code",
   "execution_count": 24,
   "metadata": {},
   "outputs": [
    {
     "name": "stdout",
     "output_type": "stream",
     "text": [
      "Accuracy  0.9728813559322034\n"
     ]
    }
   ],
   "source": [
    "preds = rf.predict(x_test)\n",
    "print(\"Accuracy \" ,rf.score(x_test,y_test))"
   ]
  },
  {
   "cell_type": "code",
   "execution_count": 25,
   "metadata": {},
   "outputs": [
    {
     "name": "stdout",
     "output_type": "stream",
     "text": [
      "classification report\n",
      "               precision    recall  f1-score   support\n",
      "\n",
      " affirmation       0.95      1.00      0.98        20\n",
      "     unknown       0.96      0.98      0.97        48\n",
      "        what       0.98      0.98      0.98       128\n",
      "        when       0.94      0.84      0.89        19\n",
      "         who       0.99      0.99      0.99        80\n",
      "\n",
      "    accuracy                           0.97       295\n",
      "   macro avg       0.96      0.96      0.96       295\n",
      "weighted avg       0.97      0.97      0.97       295\n",
      "\n"
     ]
    }
   ],
   "source": [
    "print(\"classification report\\n\",repo(preds,y_test))"
   ]
  },
  {
   "cell_type": "code",
   "execution_count": 26,
   "metadata": {},
   "outputs": [],
   "source": [
    "test1 = vectorizer.transform([\"What is your name?\"])\n",
    "test2 = vectorizer.transform([\"When is the show happening?\"])\n",
    "test3 = vectorizer.transform([\"Is there a cab available for the airport?\"])\n",
    "test4 = vectorizer.transform([\"What time does the train leave?\"])\n",
    "test5 = vectorizer.transform([\"how many boys are there in the game of football?\"])"
   ]
  },
  {
   "cell_type": "code",
   "execution_count": 27,
   "metadata": {},
   "outputs": [
    {
     "name": "stdout",
     "output_type": "stream",
     "text": [
      "['what']\n",
      "['when']\n",
      "['affirmation']\n",
      "['when']\n",
      "['unknown']\n"
     ]
    }
   ],
   "source": [
    "print(rf.predict(test1))\n",
    "\n",
    "print(rf.predict(test2))\n",
    "\n",
    "print(rf.predict(test3))\n",
    "\n",
    "print(rf.predict(test4))\n",
    "\n",
    "print(rf.predict(test5))"
   ]
  },
  {
   "cell_type": "markdown",
   "metadata": {},
   "source": [
    "### Let's Save the prospective models"
   ]
  },
  {
   "cell_type": "code",
   "execution_count": 48,
   "metadata": {},
   "outputs": [],
   "source": [
    "import pickle as p\n",
    "\n",
    "p.dump(data.Question,open('./saved-data/random-forest/x.pickle','wb'))\n",
    "# Random Forest\n",
    "# We have to dump both vectorizer and Random Forest classifier object\n",
    "p.dump(vectorizer,open('./saved-data/random-forest/vectorizer.pickle','wb'))\n",
    "p.dump(rf,open('./saved-data/random-forest/random_forest.pickle','wb'))"
   ]
  },
  {
   "cell_type": "markdown",
   "metadata": {},
   "source": [
    "This is potentially good model, lets try other model "
   ]
  },
  {
   "cell_type": "markdown",
   "metadata": {},
   "source": [
    "## LSTM"
   ]
  },
  {
   "cell_type": "code",
   "execution_count": 29,
   "metadata": {},
   "outputs": [],
   "source": [
    "import tensorflow as tf\n",
    "from tensorflow.keras.layers import Embedding, LSTM, Dense\n",
    "from tensorflow.keras.layers import Embedding\n",
    "\n",
    "from tensorflow.keras.models import Model\n",
    "from tensorflow.keras.models import Sequential\n",
    "from tensorflow.keras.layers import Dropout\n",
    "from tensorflow.keras.layers import Input\n",
    "\n",
    "\n",
    "physical_devices = tf.config.experimental.list_physical_devices('GPU')\n",
    "tf.config.experimental.set_memory_growth(physical_devices[0], True)"
   ]
  },
  {
   "cell_type": "code",
   "execution_count": 30,
   "metadata": {},
   "outputs": [],
   "source": [
    "from tensorflow.keras.preprocessing.text import Tokenizer\n",
    "from tensorflow.keras.preprocessing.sequence import pad_sequences"
   ]
  },
  {
   "cell_type": "code",
   "execution_count": 31,
   "metadata": {},
   "outputs": [],
   "source": [
    "#Tokenizer\n",
    "tokenizer = Tokenizer(num_words = 30000, split = \" \")\n",
    "tokenizer.fit_on_texts(data.Question.values)\n",
    "x = tokenizer.texts_to_sequences(data.Question.values)\n",
    "x = pad_sequences(x,maxlen = 35)"
   ]
  },
  {
   "cell_type": "code",
   "execution_count": 32,
   "metadata": {},
   "outputs": [
    {
     "name": "stdout",
     "output_type": "stream",
     "text": [
      "[   0    0    0    0    0    0    0    0    0    0    0    0    0    0\n",
      "    0    0    0    0    0    0    0    0    0    0    0    0   11   15\n",
      " 1122 1123    6   14 1124  287  377]\n",
      "how did serfdom develop in and then leave russia \n"
     ]
    }
   ],
   "source": [
    "print(x[0])\n",
    "print(data[\"Question\"].iloc[0])"
   ]
  },
  {
   "cell_type": "code",
   "execution_count": 33,
   "metadata": {},
   "outputs": [
    {
     "name": "stdout",
     "output_type": "stream",
     "text": [
      "1122\n"
     ]
    }
   ],
   "source": [
    "print(tokenizer.word_index[\"serfdom\"])"
   ]
  },
  {
   "cell_type": "code",
   "execution_count": 34,
   "metadata": {},
   "outputs": [],
   "source": [
    "word_index = tokenizer.word_index"
   ]
  },
  {
   "cell_type": "code",
   "execution_count": 35,
   "metadata": {},
   "outputs": [],
   "source": [
    "from sklearn.preprocessing import LabelEncoder\n",
    "from tensorflow.keras.utils import to_categorical\n",
    "\n",
    "encoder = LabelEncoder()\n",
    "encoder.fit(data[\"Label\"])\n",
    "y = encoder.transform(data[\"Label\"])\n",
    "y = to_categorical(np.asarray(y))"
   ]
  },
  {
   "cell_type": "code",
   "execution_count": 36,
   "metadata": {},
   "outputs": [],
   "source": [
    "order = np.arange(x.shape[0])\n",
    "np.random.shuffle(order)\n",
    "x = x[order]\n",
    "y = y[order]\n",
    "test_size = int(0.2 * x.shape[0])\n",
    "\n",
    "x_train = x[:-test_length]\n",
    "x_test = x[-test_length:]\n",
    "\n",
    "y_train = y[:-test_length]\n",
    "y_test = y[-test_length:]\n"
   ]
  },
  {
   "cell_type": "code",
   "execution_count": 37,
   "metadata": {},
   "outputs": [
    {
     "name": "stderr",
     "output_type": "stream",
     "text": [
      "400000it [00:37, 10615.91it/s]\n"
     ]
    }
   ],
   "source": [
    "#Pretrained GLove Model\n",
    "# Load Glove word2vec embeddings\n",
    "# value1 coeff1(300 long vector)\n",
    "# value2 coeff2(300 long vector)\n",
    "from tqdm import tqdm\n",
    "embedding_index = {}\n",
    "\n",
    "glove_file = 'glove.6B.300d.txt'\n",
    "with open(glove_file,'r', encoding = \"utf-8\") as file:\n",
    "    for line in tqdm(file):\n",
    "        values = line.split()\n",
    "        word  = values[0]\n",
    "        coeff = np.asarray(values[1:], dtype='float32')\n",
    "        embedding_index[word] = coeff\n",
    "\n",
    "        \n",
    "embedding_matrix = np.zeros((len(word_index) + 1, 300))\n",
    "\n",
    "for word,i in word_index.items():\n",
    "    if embedding_index.get(word) is not None:\n",
    "        embedding_matrix[i] = embedding_index.get(word)\n",
    "                "
   ]
  },
  {
   "cell_type": "code",
   "execution_count": 38,
   "metadata": {},
   "outputs": [],
   "source": [
    "\n",
    "def get_model(num_classes = 5):\n",
    "    \n",
    "    embedding_layer = Embedding(len(word_index)+1,300,\n",
    "                            weights=[embedding_matrix],\n",
    "                            input_length = 35,\n",
    "                            trainable = False)\n",
    "    LSTM_layer = LSTM(512, dropout=0.2, recurrent_dropout=0.2)    \n",
    "    Dense_layer_relu = Dense(128,activation = 'relu')\n",
    "    Dense_layer_relu1 = Dense(64,activation = 'relu')\n",
    "    Dense_layer_softmax = Dense(num_classes,activation = 'softmax')\n",
    "    \n",
    "    inputs =  Input(shape=(35,),dtype = 'int32')\n",
    "    encoded_emb = embedding_layer(inputs)\n",
    "    encoded_stream = LSTM_layer(encoded_emb)\n",
    "    outputs = (Dense_layer_relu(encoded_stream))\n",
    "    outputs = (Dense_layer_relu1(outputs))\n",
    "    outputs = Dense_layer_softmax(outputs)\n",
    "    \n",
    "    model = Model(inputs,outputs)\n",
    "    \n",
    "    model.compile(loss = 'categorical_crossentropy', optimizer='adam',metrics = ['accuracy'])\n",
    "    print(model.summary())\n",
    "    return model"
   ]
  },
  {
   "cell_type": "code",
   "execution_count": 39,
   "metadata": {},
   "outputs": [
    {
     "name": "stdout",
     "output_type": "stream",
     "text": [
      "Model: \"model\"\n",
      "_________________________________________________________________\n",
      "Layer (type)                 Output Shape              Param #   \n",
      "=================================================================\n",
      "input_1 (InputLayer)         [(None, 35)]              0         \n",
      "_________________________________________________________________\n",
      "embedding (Embedding)        (None, 35, 300)           1105800   \n",
      "_________________________________________________________________\n",
      "lstm (LSTM)                  (None, 512)               1665024   \n",
      "_________________________________________________________________\n",
      "dense (Dense)                (None, 128)               65664     \n",
      "_________________________________________________________________\n",
      "dense_1 (Dense)              (None, 64)                8256      \n",
      "_________________________________________________________________\n",
      "dense_2 (Dense)              (None, 5)                 325       \n",
      "=================================================================\n",
      "Total params: 2,845,069\n",
      "Trainable params: 1,739,269\n",
      "Non-trainable params: 1,105,800\n",
      "_________________________________________________________________\n",
      "None\n",
      "Train on 1181 samples, validate on 295 samples\n",
      "Epoch 1/24\n",
      "1181/1181 [==============================] - 5s 5ms/sample - loss: 1.5255 - accuracy: 0.3827 - val_loss: 1.3041 - val_accuracy: 0.4475\n",
      "Epoch 2/24\n",
      "1181/1181 [==============================] - 1s 565us/sample - loss: 1.2930 - accuracy: 0.4987 - val_loss: 1.1169 - val_accuracy: 0.6136\n",
      "Epoch 3/24\n",
      "1181/1181 [==============================] - 1s 556us/sample - loss: 1.0961 - accuracy: 0.6198 - val_loss: 0.9672 - val_accuracy: 0.6542\n",
      "Epoch 4/24\n",
      "1181/1181 [==============================] - 1s 559us/sample - loss: 0.8975 - accuracy: 0.6588 - val_loss: 0.6981 - val_accuracy: 0.7492\n",
      "Epoch 5/24\n",
      "1181/1181 [==============================] - 1s 556us/sample - loss: 0.7349 - accuracy: 0.7367 - val_loss: 0.6005 - val_accuracy: 0.7966\n",
      "Epoch 6/24\n",
      "1181/1181 [==============================] - 1s 560us/sample - loss: 0.6277 - accuracy: 0.7731 - val_loss: 0.5216 - val_accuracy: 0.8203\n",
      "Epoch 7/24\n",
      "1181/1181 [==============================] - 1s 558us/sample - loss: 0.5382 - accuracy: 0.8137 - val_loss: 0.4507 - val_accuracy: 0.8441\n",
      "Epoch 8/24\n",
      "1181/1181 [==============================] - 1s 565us/sample - loss: 0.4784 - accuracy: 0.8230 - val_loss: 0.3764 - val_accuracy: 0.8542\n",
      "Epoch 9/24\n",
      "1181/1181 [==============================] - 1s 557us/sample - loss: 0.4254 - accuracy: 0.8408 - val_loss: 0.3396 - val_accuracy: 0.8881\n",
      "Epoch 10/24\n",
      "1181/1181 [==============================] - 1s 557us/sample - loss: 0.3569 - accuracy: 0.8916 - val_loss: 0.3008 - val_accuracy: 0.9051\n",
      "Epoch 11/24\n",
      "1181/1181 [==============================] - 1s 556us/sample - loss: 0.3215 - accuracy: 0.9077 - val_loss: 0.2545 - val_accuracy: 0.9220\n",
      "Epoch 12/24\n",
      "1181/1181 [==============================] - ETA: 0s - loss: 0.2530 - accuracy: 0.93 - 1s 561us/sample - loss: 0.2486 - accuracy: 0.9340 - val_loss: 0.1969 - val_accuracy: 0.9492\n",
      "Epoch 13/24\n",
      "1181/1181 [==============================] - 1s 559us/sample - loss: 0.2170 - accuracy: 0.9433 - val_loss: 0.1579 - val_accuracy: 0.9492\n",
      "Epoch 14/24\n",
      "1181/1181 [==============================] - 1s 557us/sample - loss: 0.1590 - accuracy: 0.9560 - val_loss: 0.1383 - val_accuracy: 0.9593\n",
      "Epoch 15/24\n",
      "1181/1181 [==============================] - 1s 563us/sample - loss: 0.1499 - accuracy: 0.9585 - val_loss: 0.1164 - val_accuracy: 0.9627\n",
      "Epoch 16/24\n",
      "1181/1181 [==============================] - 1s 565us/sample - loss: 0.1342 - accuracy: 0.9594 - val_loss: 0.1053 - val_accuracy: 0.9729\n",
      "Epoch 17/24\n",
      "1181/1181 [==============================] - 1s 562us/sample - loss: 0.1002 - accuracy: 0.9721 - val_loss: 0.1027 - val_accuracy: 0.9695\n",
      "Epoch 18/24\n",
      "1181/1181 [==============================] - 1s 566us/sample - loss: 0.1000 - accuracy: 0.9721 - val_loss: 0.1029 - val_accuracy: 0.9729\n",
      "Epoch 19/24\n",
      "1181/1181 [==============================] - 1s 561us/sample - loss: 0.0858 - accuracy: 0.9763 - val_loss: 0.0875 - val_accuracy: 0.9763\n",
      "Epoch 20/24\n",
      "1181/1181 [==============================] - 1s 558us/sample - loss: 0.0787 - accuracy: 0.9831 - val_loss: 0.0877 - val_accuracy: 0.9864\n",
      "Epoch 21/24\n",
      "1181/1181 [==============================] - 1s 562us/sample - loss: 0.0714 - accuracy: 0.9831 - val_loss: 0.0829 - val_accuracy: 0.9797\n",
      "Epoch 22/24\n",
      "1181/1181 [==============================] - 1s 565us/sample - loss: 0.0648 - accuracy: 0.9831 - val_loss: 0.0817 - val_accuracy: 0.9864\n",
      "Epoch 23/24\n",
      "1181/1181 [==============================] - 1s 561us/sample - loss: 0.0664 - accuracy: 0.9805 - val_loss: 0.0790 - val_accuracy: 0.9864\n",
      "Epoch 24/24\n",
      "1181/1181 [==============================] - 1s 563us/sample - loss: 0.0528 - accuracy: 0.9856 - val_loss: 0.0763 - val_accuracy: 0.9864\n"
     ]
    }
   ],
   "source": [
    "lstm_model = get_model() \n",
    "\n",
    "history = lstm_model.fit(x_train, y_train,\n",
    "                          batch_size=512,\n",
    "                          epochs=24,\n",
    "                          validation_data=(x_test, y_test))"
   ]
  },
  {
   "cell_type": "code",
   "execution_count": 40,
   "metadata": {},
   "outputs": [],
   "source": [
    "test1 = tokenizer.texts_to_sequences([\"What is your name?\"])\n",
    "test1 = pad_sequences(test1, maxlen=35)\n",
    "\n",
    "test2 = tokenizer.texts_to_sequences([\"When is the show happening?\"])\n",
    "test2 = pad_sequences(test2, maxlen=35)\n",
    "\n",
    "test3 = tokenizer.texts_to_sequences([\"Is there a cab available for the airport?\"])\n",
    "test3 = pad_sequences(test3, maxlen=35)\n",
    "\n",
    "test4 = tokenizer.texts_to_sequences([\"What time does the train leave?\"])\n",
    "test4 = pad_sequences(test4, maxlen=35)\n",
    "\n",
    "test5 = tokenizer.texts_to_sequences([\"how many boys are there in the game of football?\"])\n",
    "test5 = pad_sequences(test5, maxlen=35)"
   ]
  },
  {
   "cell_type": "code",
   "execution_count": 41,
   "metadata": {},
   "outputs": [
    {
     "name": "stdout",
     "output_type": "stream",
     "text": [
      "['what']\n",
      "['when']\n",
      "['affirmation']\n",
      "['when']\n",
      "['unknown']\n"
     ]
    }
   ],
   "source": [
    "print(encoder.inverse_transform([np.argmax(lstm_model.predict(test1))]))\n",
    "print(encoder.inverse_transform([np.argmax(lstm_model.predict(test2))]))\n",
    "print(encoder.inverse_transform([np.argmax(lstm_model.predict(test3))]))\n",
    "print(encoder.inverse_transform([np.argmax(lstm_model.predict(test4))]))\n",
    "print(encoder.inverse_transform([np.argmax(lstm_model.predict(test5))]))"
   ]
  },
  {
   "cell_type": "code",
   "execution_count": 42,
   "metadata": {},
   "outputs": [
    {
     "name": "stdout",
     "output_type": "stream",
     "text": [
      "295/295 [==============================] - 0s 663us/sample - loss: 0.0763 - accuracy: 0.9864\n"
     ]
    },
    {
     "data": {
      "text/plain": [
       "[0.07633882811513998, 0.98644066]"
      ]
     },
     "execution_count": 42,
     "metadata": {},
     "output_type": "execute_result"
    }
   ],
   "source": [
    "lstm_model.evaluate(x_test,y_test)"
   ]
  },
  {
   "cell_type": "markdown",
   "metadata": {},
   "source": [
    "This is also a pretty good model\n",
    "\n",
    "I've tried some more models of LSTM like bidirectional but it as it turns out, it overfitted and gave bad result \n",
    "\n",
    "I've also tried adjusting the hyperparameters, the best what was achieved was coming in between (0.96 to 0.98)"
   ]
  },
  {
   "cell_type": "code",
   "execution_count": 43,
   "metadata": {},
   "outputs": [
    {
     "data": {
      "image/png": "[encoded data removed]",
      "text/plain": [
       "<Figure size 432x288 with 1 Axes>"
      ]
     },
     "metadata": {
      "needs_background": "light"
     },
     "output_type": "display_data"
    }
   ],
   "source": [
    "plt.plot(history.history['accuracy'])\n",
    "plt.plot(history.history['val_accuracy'])\n",
    "plt.title('model accuracy')\n",
    "plt.ylabel('accuracy')\n",
    "plt.xlabel('epoch')\n",
    "plt.legend(['train', 'test'], loc='upper left')\n",
    "plt.show()"
   ]
  },
  {
   "cell_type": "code",
   "execution_count": 44,
   "metadata": {},
   "outputs": [
    {
     "data": {
      "image/png": "[encoded data removed]",
      "text/plain": [
       "<Figure size 432x288 with 1 Axes>"
      ]
     },
     "metadata": {
      "needs_background": "light"
     },
     "output_type": "display_data"
    }
   ],
   "source": [
    "plt.plot(history.history['loss'])\n",
    "plt.plot(history.history['val_loss'])\n",
    "plt.title('model loss')\n",
    "plt.ylabel('loss')\n",
    "plt.xlabel('epoch')\n",
    "plt.legend(['train', 'test'], loc='upper left')\n",
    "plt.show()"
   ]
  },
  {
   "cell_type": "markdown",
   "metadata": {},
   "source": [
    "### Let's Save the prospective models"
   ]
  },
  {
   "cell_type": "code",
   "execution_count": 45,
   "metadata": {},
   "outputs": [],
   "source": [
    "import pickle as p"
   ]
  },
  {
   "cell_type": "code",
   "execution_count": 46,
   "metadata": {},
   "outputs": [],
   "source": [
    "# LSTM Model\n",
    "# We have to dump both encoder object and our lstm_model\n",
    "p.dump(encoder,open('./saved-data/LSTM/encoder.pickle','wb'))\n",
    "\n",
    "tf.keras.models.save_model(\n",
    "    model = lstm_model,\n",
    "    filepath = './saved-data/LSTM/lstm_model.h5',\n",
    "    overwrite=True,\n",
    "    include_optimizer=True,\n",
    "    save_format=None,\n",
    "    signatures=None)\n",
    "\n",
    "p.dump(tokenizer,open('./saved-data/LSTM/tokenizer.pickle','wb'))"
   ]
  }
 ],
 "metadata": {
  "kernelspec": {
   "display_name": "Python 3",
   "language": "python",
   "name": "python3"
  },
  "language_info": {
   "codemirror_mode": {
    "name": "ipython",
    "version": 3
   },
   "file_extension": ".py",
   "mimetype": "text/x-python",
   "name": "python",
   "nbconvert_exporter": "python",
   "pygments_lexer": "ipython3",
   "version": "3.6.10"
  }
 },
 "nbformat": 4,
 "nbformat_minor": 4
}
